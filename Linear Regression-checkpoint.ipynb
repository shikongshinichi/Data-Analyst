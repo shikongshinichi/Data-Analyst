{
 "cells": [
  {
   "cell_type": "code",
   "execution_count": 3,
   "id": "fe298141",
   "metadata": {},
   "outputs": [],
   "source": [
    "# dai so tuyen tinh\n",
    "import numpy as np \n",
    "# ve hinh\n",
    "import matplotlib.pyplot as plt"
   ]
  },
  {
   "cell_type": "code",
   "execution_count": 4,
   "id": "969de4d0",
   "metadata": {},
   "outputs": [],
   "source": [
    "# height\n",
    "X = np.array([147, 150, 153, 158, 163, 165, 168, 170, 173, 175, 178, 180, 183]).T\n",
    "# weight\n",
    "y = np.array([49, 50, 51,  54, 58, 59, 60, 62, 63, 64, 66, 67, 68]).T"
   ]
  },
  {
   "cell_type": "code",
   "execution_count": null,
   "id": "84f29365",
   "metadata": {},
   "outputs": [],
   "source": []
  }
 ],
 "metadata": {
  "kernelspec": {
   "display_name": "Python 3 (ipykernel)",
   "language": "python",
   "name": "python3"
  },
  "language_info": {
   "codemirror_mode": {
    "name": "ipython",
    "version": 3
   },
   "file_extension": ".py",
   "mimetype": "text/x-python",
   "name": "python",
   "nbconvert_exporter": "python",
   "pygments_lexer": "ipython3",
   "version": "3.11.5"
  }
 },
 "nbformat": 4,
 "nbformat_minor": 5
}
