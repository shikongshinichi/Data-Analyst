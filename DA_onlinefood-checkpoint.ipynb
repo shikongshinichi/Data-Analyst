{
 "cells": [
  {
   "cell_type": "code",
   "execution_count": 1,
   "id": "3a8d0834",
   "metadata": {},
   "outputs": [],
   "source": [
    "# import libraries\n",
    "import pandas as pd\n",
    "import matplotlib.pyplot as plt\n",
    "import seaborn as sns"
   ]
  },
  {
   "cell_type": "code",
   "execution_count": 2,
   "id": "915477db",
   "metadata": {
    "scrolled": true
   },
   "outputs": [
    {
     "data": {
      "text/html": [
       "<div>\n",
       "<style scoped>\n",
       "    .dataframe tbody tr th:only-of-type {\n",
       "        vertical-align: middle;\n",
       "    }\n",
       "\n",
       "    .dataframe tbody tr th {\n",
       "        vertical-align: top;\n",
       "    }\n",
       "\n",
       "    .dataframe thead th {\n",
       "        text-align: right;\n",
       "    }\n",
       "</style>\n",
       "<table border=\"1\" class=\"dataframe\">\n",
       "  <thead>\n",
       "    <tr style=\"text-align: right;\">\n",
       "      <th></th>\n",
       "      <th>Age</th>\n",
       "      <th>Gender</th>\n",
       "      <th>Marital Status</th>\n",
       "      <th>Occupation</th>\n",
       "      <th>Monthly Income</th>\n",
       "      <th>Educational Qualifications</th>\n",
       "      <th>Family size</th>\n",
       "      <th>latitude</th>\n",
       "      <th>longitude</th>\n",
       "      <th>Pin code</th>\n",
       "      <th>Output</th>\n",
       "      <th>Feedback</th>\n",
       "      <th>Unnamed: 12</th>\n",
       "    </tr>\n",
       "  </thead>\n",
       "  <tbody>\n",
       "    <tr>\n",
       "      <th>0</th>\n",
       "      <td>20</td>\n",
       "      <td>Female</td>\n",
       "      <td>Single</td>\n",
       "      <td>Student</td>\n",
       "      <td>No Income</td>\n",
       "      <td>Post Graduate</td>\n",
       "      <td>4</td>\n",
       "      <td>12.9766</td>\n",
       "      <td>77.5993</td>\n",
       "      <td>560001</td>\n",
       "      <td>Yes</td>\n",
       "      <td>Positive</td>\n",
       "      <td>Yes</td>\n",
       "    </tr>\n",
       "    <tr>\n",
       "      <th>1</th>\n",
       "      <td>24</td>\n",
       "      <td>Female</td>\n",
       "      <td>Single</td>\n",
       "      <td>Student</td>\n",
       "      <td>Below Rs.10000</td>\n",
       "      <td>Graduate</td>\n",
       "      <td>3</td>\n",
       "      <td>12.9770</td>\n",
       "      <td>77.5773</td>\n",
       "      <td>560009</td>\n",
       "      <td>Yes</td>\n",
       "      <td>Positive</td>\n",
       "      <td>Yes</td>\n",
       "    </tr>\n",
       "    <tr>\n",
       "      <th>2</th>\n",
       "      <td>22</td>\n",
       "      <td>Male</td>\n",
       "      <td>Single</td>\n",
       "      <td>Student</td>\n",
       "      <td>Below Rs.10000</td>\n",
       "      <td>Post Graduate</td>\n",
       "      <td>3</td>\n",
       "      <td>12.9551</td>\n",
       "      <td>77.6593</td>\n",
       "      <td>560017</td>\n",
       "      <td>Yes</td>\n",
       "      <td>Negative</td>\n",
       "      <td>Yes</td>\n",
       "    </tr>\n",
       "    <tr>\n",
       "      <th>3</th>\n",
       "      <td>22</td>\n",
       "      <td>Female</td>\n",
       "      <td>Single</td>\n",
       "      <td>Student</td>\n",
       "      <td>No Income</td>\n",
       "      <td>Graduate</td>\n",
       "      <td>6</td>\n",
       "      <td>12.9473</td>\n",
       "      <td>77.5616</td>\n",
       "      <td>560019</td>\n",
       "      <td>Yes</td>\n",
       "      <td>Positive</td>\n",
       "      <td>Yes</td>\n",
       "    </tr>\n",
       "    <tr>\n",
       "      <th>4</th>\n",
       "      <td>22</td>\n",
       "      <td>Male</td>\n",
       "      <td>Single</td>\n",
       "      <td>Student</td>\n",
       "      <td>Below Rs.10000</td>\n",
       "      <td>Post Graduate</td>\n",
       "      <td>4</td>\n",
       "      <td>12.9850</td>\n",
       "      <td>77.5533</td>\n",
       "      <td>560010</td>\n",
       "      <td>Yes</td>\n",
       "      <td>Positive</td>\n",
       "      <td>Yes</td>\n",
       "    </tr>\n",
       "  </tbody>\n",
       "</table>\n",
       "</div>"
      ],
      "text/plain": [
       "   Age  Gender Marital Status Occupation  Monthly Income  \\\n",
       "0   20  Female         Single    Student       No Income   \n",
       "1   24  Female         Single    Student  Below Rs.10000   \n",
       "2   22    Male         Single    Student  Below Rs.10000   \n",
       "3   22  Female         Single    Student       No Income   \n",
       "4   22    Male         Single    Student  Below Rs.10000   \n",
       "\n",
       "  Educational Qualifications  Family size  latitude  longitude  Pin code  \\\n",
       "0              Post Graduate            4   12.9766    77.5993    560001   \n",
       "1                   Graduate            3   12.9770    77.5773    560009   \n",
       "2              Post Graduate            3   12.9551    77.6593    560017   \n",
       "3                   Graduate            6   12.9473    77.5616    560019   \n",
       "4              Post Graduate            4   12.9850    77.5533    560010   \n",
       "\n",
       "  Output   Feedback Unnamed: 12  \n",
       "0    Yes   Positive         Yes  \n",
       "1    Yes   Positive         Yes  \n",
       "2    Yes  Negative          Yes  \n",
       "3    Yes   Positive         Yes  \n",
       "4    Yes   Positive         Yes  "
      ]
     },
     "execution_count": 2,
     "metadata": {},
     "output_type": "execute_result"
    }
   ],
   "source": [
    "# get data\n",
    "food = pd.read_csv(r\"D:\\Documents\\DA\\Data\\onlinefoods.csv\")\n",
    "food.head()"
   ]
  },
  {
   "cell_type": "code",
   "execution_count": 4,
   "id": "e216051c",
   "metadata": {},
   "outputs": [
    {
     "data": {
      "text/plain": [
       "['Age',\n",
       " 'Gender',\n",
       " 'Marital Status',\n",
       " 'Occupation',\n",
       " 'Monthly Income',\n",
       " 'Educational Qualifications',\n",
       " 'Family size',\n",
       " 'latitude',\n",
       " 'longitude',\n",
       " 'Pin code',\n",
       " 'Output',\n",
       " 'Feedback',\n",
       " 'Unnamed: 12']"
      ]
     },
     "execution_count": 4,
     "metadata": {},
     "output_type": "execute_result"
    }
   ],
   "source": [
    "food.columns.tolist()"
   ]
  },
  {
   "cell_type": "code",
   "execution_count": 5,
   "id": "7c67a475",
   "metadata": {},
   "outputs": [
    {
     "data": {
      "text/plain": [
       "(388, 13)"
      ]
     },
     "execution_count": 5,
     "metadata": {},
     "output_type": "execute_result"
    }
   ],
   "source": [
    "food.shape"
   ]
  },
  {
   "cell_type": "code",
   "execution_count": 6,
   "id": "747e51ac",
   "metadata": {},
   "outputs": [
    {
     "data": {
      "text/plain": [
       "Age                             int64\n",
       "Gender                         object\n",
       "Marital Status                 object\n",
       "Occupation                     object\n",
       "Monthly Income                 object\n",
       "Educational Qualifications     object\n",
       "Family size                     int64\n",
       "latitude                      float64\n",
       "longitude                     float64\n",
       "Pin code                        int64\n",
       "Output                         object\n",
       "Feedback                       object\n",
       "Unnamed: 12                    object\n",
       "dtype: object"
      ]
     },
     "execution_count": 6,
     "metadata": {},
     "output_type": "execute_result"
    }
   ],
   "source": [
    "food.dtypes"
   ]
  },
  {
   "cell_type": "markdown",
   "id": "d3c365cf",
   "metadata": {},
   "source": [
    "# Introduction"
   ]
  },
  {
   "cell_type": "markdown",
   "id": "a7c4841f",
   "metadata": {},
   "source": [
    "## Dataset Description\n",
    "This dataset is about online food order. Dataset has 388 rows, 13 columns, contains infomation about many online food orders.\n",
    "Information of an order are:\n",
    "    \n",
    "    Age                        int64  - Age of customer\n",
    "    Gender                     object - Gender of customer\n",
    "    Marital Status             object - Marital Status of customer\n",
    "    Occupation                 object - Occupation of customer\n",
    "    Monthly Income             object - Monthly Income of customer\n",
    "    Educational Qualifications object - Educational Qualificaitons of customer\n",
    "    Family size                int64  - number of members in customer's family\n",
    "    latitude                   float64 - latitude of customer's location\n",
    "    longitude                  float64 - longtitude of customer's location\n",
    "    Pin code                   int64  - pin code of customer's location\n",
    "    Output                     object - current status of the order\n",
    "    Feedback                   object - Feed back of customer of the order\n",
    "    Unnamed: 12                object - Unknown"
   ]
  },
  {
   "cell_type": "markdown",
   "id": "f2368079",
   "metadata": {},
   "source": [
    "# Questions\n",
    "### On Master side:\n",
    "    Q1: Distribution of age using this app\n",
    "    Q2: Which gender use more?\n",
    "    Q3: Number of each gender \n",
    "    Q4: This app suitable for single or married?\n",
    "    Q5: Which is the most popular occupation?\n",
    "    Q6: Number users of each range of Monthly income\n",
    "    Q7: This app is popular for users have which education qualification?\n",
    "    Q8: Which number of member in family is most popular (to sale more kind of food have this amount part)\n",
    "    Q9: which is most popular pin code?\n",
    "    Q10: Status output of customer\n",
    "    Q11: Status feedback of customer"
   ]
  },
  {
   "cell_type": "markdown",
   "id": "d68c9575",
   "metadata": {},
   "source": [
    "# Check data for Cleaning\n",
    "Based on what is neccessary for solving questions"
   ]
  },
  {
   "cell_type": "code",
   "execution_count": 3,
   "id": "a9cbc51f",
   "metadata": {},
   "outputs": [
    {
     "data": {
      "text/plain": [
       "Age                           0\n",
       "Gender                        0\n",
       "Marital Status                0\n",
       "Occupation                    0\n",
       "Monthly Income                0\n",
       "Educational Qualifications    0\n",
       "Family size                   0\n",
       "latitude                      0\n",
       "longitude                     0\n",
       "Pin code                      0\n",
       "Output                        0\n",
       "Feedback                      0\n",
       "Unnamed: 12                   0\n",
       "dtype: int64"
      ]
     },
     "execution_count": 3,
     "metadata": {},
     "output_type": "execute_result"
    }
   ],
   "source": [
    "# check null values\n",
    "food.isnull().sum()"
   ]
  },
  {
   "cell_type": "code",
   "execution_count": 10,
   "id": "f1fd3cf3",
   "metadata": {},
   "outputs": [
    {
     "data": {
      "text/plain": [
       "103"
      ]
     },
     "execution_count": 10,
     "metadata": {},
     "output_type": "execute_result"
    }
   ],
   "source": [
    "# check duplicates\n",
    "food.duplicated().sum()"
   ]
  },
  {
   "cell_type": "code",
   "execution_count": 14,
   "id": "936666f9",
   "metadata": {},
   "outputs": [
    {
     "data": {
      "text/plain": [
       "array(['Positive', 'Negative '], dtype=object)"
      ]
     },
     "execution_count": 14,
     "metadata": {},
     "output_type": "execute_result"
    }
   ],
   "source": [
    "# check value for 2-values column\n",
    "food['Feedback'].unique()"
   ]
  },
  {
   "cell_type": "markdown",
   "id": "acd6d79c",
   "metadata": {},
   "source": [
    "Observation:"
   ]
  },
  {
   "cell_type": "markdown",
   "id": "72bb40d4",
   "metadata": {},
   "source": [
    "- columns: Unname12 is not necessary --> drop col\n",
    "- dtype:\n",
    "    + Feedback is binary value --> convert to bool type \n",
    "- Null: no null values\n",
    "- Duplicates: has 103 duplicated values --> del duplicates value"
   ]
  },
  {
   "cell_type": "markdown",
   "id": "fb4e2b1f",
   "metadata": {},
   "source": [
    "## Data Cleaning"
   ]
  },
  {
   "cell_type": "code",
   "execution_count": 3,
   "id": "d8789fde",
   "metadata": {},
   "outputs": [
    {
     "data": {
      "text/plain": [
       "(388, 13)"
      ]
     },
     "execution_count": 3,
     "metadata": {},
     "output_type": "execute_result"
    }
   ],
   "source": [
    "# copy data\n",
    "df = food.copy()\n",
    "df.shape"
   ]
  },
  {
   "cell_type": "code",
   "execution_count": 4,
   "id": "8822f6e5",
   "metadata": {},
   "outputs": [
    {
     "data": {
      "text/plain": [
       "Index(['Age', 'Gender', 'Marital Status', 'Occupation', 'Monthly Income',\n",
       "       'Educational Qualifications', 'Family size', 'latitude', 'longitude',\n",
       "       'Pin code', 'Output', 'Feedback'],\n",
       "      dtype='object')"
      ]
     },
     "execution_count": 4,
     "metadata": {},
     "output_type": "execute_result"
    }
   ],
   "source": [
    "# drop unecessary column\n",
    "df = df.drop('Unnamed: 12', axis=1)\n",
    "df.columns"
   ]
  },
  {
   "cell_type": "code",
   "execution_count": 5,
   "id": "778d8e3a",
   "metadata": {
    "scrolled": true
   },
   "outputs": [
    {
     "data": {
      "text/plain": [
       "dtype('bool')"
      ]
     },
     "execution_count": 5,
     "metadata": {},
     "output_type": "execute_result"
    }
   ],
   "source": [
    "# convert bool col\n",
    "df['Feedback'] = (df['Feedback'] == 'Positive').astype('bool')\n",
    "df['Feedback'].dtype"
   ]
  },
  {
   "cell_type": "code",
   "execution_count": 6,
   "id": "cb498538",
   "metadata": {},
   "outputs": [
    {
     "data": {
      "text/plain": [
       "0"
      ]
     },
     "execution_count": 6,
     "metadata": {},
     "output_type": "execute_result"
    }
   ],
   "source": [
    "# drop duplicated values\n",
    "df.drop_duplicates(inplace=True)\n",
    "df.duplicated().sum()"
   ]
  },
  {
   "cell_type": "code",
   "execution_count": 8,
   "id": "80d5916c",
   "metadata": {},
   "outputs": [],
   "source": [
    "# save cleaned data\n",
    "df.to_csv(\"D:\\Documents\\DA\\Data\\onlinefoods_clean.csv\")"
   ]
  },
  {
   "cell_type": "code",
   "execution_count": 2,
   "id": "69d89431",
   "metadata": {},
   "outputs": [
    {
     "data": {
      "text/plain": [
       "(285, 13)"
      ]
     },
     "execution_count": 2,
     "metadata": {},
     "output_type": "execute_result"
    }
   ],
   "source": [
    "# load cleaned data\n",
    "df = pd.read_csv(r\"D:\\Documents\\DA\\Data\\onlinefoods_clean.csv\")\n",
    "df.shape"
   ]
  },
  {
   "cell_type": "markdown",
   "id": "df723d90",
   "metadata": {},
   "source": [
    "## Exploratory Data Analysis"
   ]
  },
  {
   "cell_type": "markdown",
   "id": "38eb7da3",
   "metadata": {},
   "source": [
    "Questions:\n",
    "\n",
    "    Q1: Distribution of age using this app\n",
    "    Q2: Which gender use more?\n",
    "    Q3: Number of each gender \n",
    "    Q4: This app suitable for single or married?\n",
    "    Q5: Which is the most popular occupation?\n",
    "    Q6: Number users of each range of Monthly income\n",
    "    Q7: This app is popular for users have which education qualification?\n",
    "    Q8: Which number of member in family is most popular (to sale more kind of food have this amount part)\n",
    "    Q9: which is most popular pin code?\n",
    "    Q10: Status output of customer\n",
    "    Q11: Status feedback of customer"
   ]
  },
  {
   "cell_type": "markdown",
   "id": "01ac261e",
   "metadata": {},
   "source": [
    "### Q1: Distribution of age using this app\n"
   ]
  },
  {
   "cell_type": "code",
   "execution_count": 12,
   "id": "d2cca479",
   "metadata": {},
   "outputs": [
    {
     "data": {
      "text/plain": [
       "<Axes: xlabel='Age', ylabel='Count'>"
      ]
     },
     "execution_count": 12,
     "metadata": {},
     "output_type": "execute_result"
    },
    {
     "data": {
      "image/png": "[encoded data removed]",
      "text/plain": [
       "<Figure size 640x480 with 1 Axes>"
      ]
     },
     "metadata": {},
     "output_type": "display_data"
    }
   ],
   "source": [
    "# distribution: histogram\n",
    "df_age = df['Age']\n",
    "sns.histplot(data=df_age, bins=17)"
   ]
  },
  {
   "cell_type": "markdown",
   "id": "d852e33e",
   "metadata": {},
   "source": [
    "#### Observation:\n",
    "- The Age range: 22-25 has the highest number of service object."
   ]
  },
  {
   "cell_type": "markdown",
   "id": "eb69d518",
   "metadata": {},
   "source": [
    "### Q2: Which gender use more?\n"
   ]
  },
  {
   "cell_type": "code",
   "execution_count": 31,
   "id": "5923567f",
   "metadata": {},
   "outputs": [
    {
     "data": {
      "text/plain": [
       "['Male', 'Female']"
      ]
     },
     "execution_count": 31,
     "metadata": {},
     "output_type": "execute_result"
    }
   ],
   "source": [
    "gender_data = df['Gender'].value_counts()\n",
    "gender_data.index.tolist()"
   ]
  },
  {
   "cell_type": "code",
   "execution_count": 33,
   "id": "fcd32c08",
   "metadata": {},
   "outputs": [
    {
     "data": {
      "text/plain": [
       "([<matplotlib.patches.Wedge at 0x2027151d810>,\n",
       "  <matplotlib.patches.Wedge at 0x2027151e850>],\n",
       " [Text(-1.0692520505683174, -0.25826353276343267, 'Male'),\n",
       "  Text(1.0692520263879355, 0.2582636328740338, 'Female')],\n",
       " [Text(-0.5832283912190821, -0.14087101787096326, '57.5%'),\n",
       "  Text(0.583228378029783, 0.14087107247674568, '42.5%')])"
      ]
     },
     "execution_count": 33,
     "metadata": {},
     "output_type": "execute_result"
    },
    {
     "data": {
      "image/png": "[encoded data removed]",
      "text/plain": [
       "<Figure size 640x480 with 1 Axes>"
      ]
     },
     "metadata": {},
     "output_type": "display_data"
    }
   ],
   "source": [
    "# compare number of 2: pie\n",
    "gender_data = df['Gender'].value_counts()\n",
    "labels = gender_data.index.tolist()\n",
    "plt.pie(gender_data, labels=labels, startangle=90, autopct=\"%1.1f%%\")"
   ]
  },
  {
   "cell_type": "markdown",
   "id": "68501d60",
   "metadata": {},
   "source": [
    "#### Observation:\n",
    "- Male use app more than Female"
   ]
  },
  {
   "cell_type": "markdown",
   "id": "88174722",
   "metadata": {},
   "source": [
    "### Q3: Number of each gender \n"
   ]
  },
  {
   "cell_type": "code",
   "execution_count": 36,
   "id": "d7ca1ed2",
   "metadata": {},
   "outputs": [
    {
     "data": {
      "text/plain": [
       "<Axes: xlabel='Gender', ylabel='count'>"
      ]
     },
     "execution_count": 36,
     "metadata": {},
     "output_type": "execute_result"
    },
    {
     "data": {
      "image/png": "[encoded data removed]",
      "text/plain": [
       "<Figure size 640x480 with 1 Axes>"
      ]
     },
     "metadata": {},
     "output_type": "display_data"
    }
   ],
   "source": [
    "# count number\n",
    "sns.countplot(x='Gender', data=df)"
   ]
  },
  {
   "cell_type": "markdown",
   "id": "6e77ce94",
   "metadata": {},
   "source": [
    "### Q4: This app suitable for single or married?\n"
   ]
  },
  {
   "cell_type": "code",
   "execution_count": 37,
   "id": "3b899251",
   "metadata": {},
   "outputs": [
    {
     "data": {
      "text/plain": [
       "<Axes: xlabel='Marital Status', ylabel='count'>"
      ]
     },
     "execution_count": 37,
     "metadata": {},
     "output_type": "execute_result"
    },
    {
     "data": {
      "image/png": "[encoded data removed]",
      "text/plain": [
       "<Figure size 640x480 with 1 Axes>"
      ]
     },
     "metadata": {},
     "output_type": "display_data"
    }
   ],
   "source": [
    "# choose which object (between more than 2 types): bar\n",
    "sns.countplot(data=df, x='Marital Status')"
   ]
  },
  {
   "cell_type": "markdown",
   "id": "b32a8e39",
   "metadata": {},
   "source": [
    "#### Observation:\n",
    "- the Single customer use it a lot."
   ]
  },
  {
   "cell_type": "markdown",
   "id": "55ebab79",
   "metadata": {},
   "source": [
    "### Q5: Which is the most popular occupation of each Gender?"
   ]
  },
  {
   "cell_type": "code",
   "execution_count": 39,
   "id": "9b6b0ba6",
   "metadata": {},
   "outputs": [
    {
     "data": {
      "text/plain": [
       "<Axes: xlabel='Occupation', ylabel='count'>"
      ]
     },
     "execution_count": 39,
     "metadata": {},
     "output_type": "execute_result"
    },
    {
     "data": {
      "image/png": "[encoded data removed]",
      "text/plain": [
       "<Figure size 640x480 with 1 Axes>"
      ]
     },
     "metadata": {},
     "output_type": "display_data"
    }
   ],
   "source": [
    "# Statistic for more object: parallel bar \n",
    "sns.countplot(data=df, x='Occupation', hue='Gender')"
   ]
  },
  {
   "cell_type": "markdown",
   "id": "62f7f6cc",
   "metadata": {},
   "source": [
    "#### Observation:\n",
    "- Has 4 types of occupations: Student, Employee, Sefl Employeed, House wife\n",
    "- All occupation have num of Male more than Female\n",
    "- Student have the highest amount in both 2 Gender\n",
    "- House wife si the occupation that hoave the lowest amount"
   ]
  },
  {
   "cell_type": "markdown",
   "id": "6afd998c",
   "metadata": {},
   "source": [
    "### Q6: Number users of each range of Monthly income"
   ]
  },
  {
   "cell_type": "code",
   "execution_count": 51,
   "id": "3bf734da",
   "metadata": {},
   "outputs": [
    {
     "data": {
      "text/plain": [
       "(array([0, 1, 2, 3, 4]),\n",
       " [Text(0, 0, 'No Income'),\n",
       "  Text(1, 0, '25001 to 50000'),\n",
       "  Text(2, 0, 'More than 50000'),\n",
       "  Text(3, 0, '10001 to 25000'),\n",
       "  Text(4, 0, 'Below Rs.10000')])"
      ]
     },
     "execution_count": 51,
     "metadata": {},
     "output_type": "execute_result"
    },
    {
     "data": {
      "image/png": "[encoded data removed]",
      "text/plain": [
       "<Figure size 640x480 with 1 Axes>"
      ]
     },
     "metadata": {},
     "output_type": "display_data"
    }
   ],
   "source": [
    "# number in types: bar\n",
    "counts = df['Monthly Income'].value_counts().index\n",
    "sns.countplot(data=df, x='Monthly Income', order=counts)\n",
    "plt.xticks(rotation=30)"
   ]
  },
  {
   "cell_type": "markdown",
   "id": "beeea711",
   "metadata": {},
   "source": [
    "### Q7: This app is popular for users have which education qualification?"
   ]
  },
  {
   "cell_type": "code",
   "execution_count": 54,
   "id": "c74b90f6",
   "metadata": {},
   "outputs": [
    {
     "data": {
      "text/plain": [
       "<Axes: xlabel='Educational Qualifications', ylabel='count'>"
      ]
     },
     "execution_count": 54,
     "metadata": {},
     "output_type": "execute_result"
    },
    {
     "data": {
      "image/png": "[encoded data removed]",
      "text/plain": [
       "<Figure size 640x480 with 1 Axes>"
      ]
     },
     "metadata": {},
     "output_type": "display_data"
    }
   ],
   "source": [
    "# which is the most: bar\n",
    "counts = df['Educational Qualifications'].value_counts().index\n",
    "sns.countplot(data=df, x='Educational Qualifications', order=counts)"
   ]
  },
  {
   "cell_type": "markdown",
   "id": "f179e0b6",
   "metadata": {},
   "source": [
    "### Q8: Which number of member in family is most popular (to sale more kind of food have this amount part)"
   ]
  },
  {
   "cell_type": "code",
   "execution_count": 68,
   "id": "239a51c2",
   "metadata": {},
   "outputs": [
    {
     "data": {
      "text/plain": [
       "<Axes: xlabel='Family size', ylabel='count'>"
      ]
     },
     "execution_count": 68,
     "metadata": {},
     "output_type": "execute_result"
    },
    {
     "data": {
      "image/png": "[encoded data removed]",
      "text/plain": [
       "<Figure size 640x480 with 1 Axes>"
      ]
     },
     "metadata": {},
     "output_type": "display_data"
    }
   ],
   "source": [
    "df_mems = df['Family size'].value_counts()\n",
    "# labels = df_mems.index.tolist()\n",
    "counts = df_mems.index\n",
    "# plt.pie(df_mems, labels=labels, startangle=90, autopct=\"%1.1f%%\")\n",
    "sns.countplot(data=df, x='Family size', order=counts)"
   ]
  },
  {
   "cell_type": "markdown",
   "id": "959ea063",
   "metadata": {},
   "source": [
    "### Q9: which is most popular pin code?"
   ]
  },
  {
   "cell_type": "code",
   "execution_count": 73,
   "id": "1b10603f",
   "metadata": {},
   "outputs": [
    {
     "data": {
      "text/plain": [
       "<Axes: xlabel='Pin code', ylabel='Count'>"
      ]
     },
     "execution_count": 73,
     "metadata": {},
     "output_type": "execute_result"
    },
    {
     "data": {
      "image/png": "[encoded data removed]",
      "text/plain": [
       "<Figure size 640x480 with 1 Axes>"
      ]
     },
     "metadata": {},
     "output_type": "display_data"
    }
   ],
   "source": [
    "# a lot of int type data: histogram\n",
    "sns.histplot(data=df, x='Pin code', bins=20)"
   ]
  },
  {
   "cell_type": "markdown",
   "id": "d900d9c2",
   "metadata": {},
   "source": [
    "### Q10: Status output of customer"
   ]
  },
  {
   "cell_type": "code",
   "execution_count": 77,
   "id": "08efdd84",
   "metadata": {},
   "outputs": [
    {
     "data": {
      "text/plain": [
       "([<matplotlib.patches.Wedge at 0x20277927010>,\n",
       "  <matplotlib.patches.Wedge at 0x20277930790>],\n",
       " [Text(-0.7494589001217326, -0.8051778418637233, 'Yes'),\n",
       "  Text(0.749458937814827, 0.8051778067790191, 'No')],\n",
       " [Text(-0.4087957637027632, -0.439187913743849, '76.1%'),\n",
       "  Text(0.40879578426263286, 0.4391878946067376, '23.9%')])"
      ]
     },
     "execution_count": 77,
     "metadata": {},
     "output_type": "execute_result"
    },
    {
     "data": {
      "image/png": "[encoded data removed]",
      "text/plain": [
       "<Figure size 640x480 with 1 Axes>"
      ]
     },
     "metadata": {},
     "output_type": "display_data"
    }
   ],
   "source": [
    "df_output = df['Output'].value_counts()\n",
    "labels = df_output.index\n",
    "plt.pie(df_output, labels=labels, autopct=\"%1.1f%%\", startangle=90)"
   ]
  },
  {
   "cell_type": "markdown",
   "id": "417a1f29",
   "metadata": {},
   "source": [
    "### Q11: Status feedback of customer"
   ]
  },
  {
   "cell_type": "code",
   "execution_count": 78,
   "id": "87e7f00c",
   "metadata": {},
   "outputs": [
    {
     "data": {
      "text/plain": [
       "([<matplotlib.patches.Wedge at 0x20277a9a050>,\n",
       "  <matplotlib.patches.Wedge at 0x20277a9b390>],\n",
       " [Text(-0.6167865756538529, -0.910809705752631, 'True'),\n",
       "  Text(0.616786575653853, 0.910809705752631, 'False')],\n",
       " [Text(-0.33642904126573786, -0.49680529404688956, '81.1%'),\n",
       "  Text(0.3364290412657379, 0.49680529404688956, '18.9%')])"
      ]
     },
     "execution_count": 78,
     "metadata": {},
     "output_type": "execute_result"
    },
    {
     "data": {
      "image/png": "[encoded data removed]",
      "text/plain": [
       "<Figure size 640x480 with 1 Axes>"
      ]
     },
     "metadata": {},
     "output_type": "display_data"
    }
   ],
   "source": [
    "df_output = df['Feedback'].value_counts()\n",
    "labels = df_output.index\n",
    "plt.pie(df_output, labels=labels, autopct=\"%1.1f%%\", startangle=90)"
   ]
  },
  {
   "cell_type": "markdown",
   "id": "4fa773d8",
   "metadata": {},
   "source": [
    "# Questions:\n",
    "### On Customer side"
   ]
  },
  {
   "cell_type": "code",
   "execution_count": null,
   "id": "7e4a4f94",
   "metadata": {},
   "outputs": [],
   "source": []
  }
 ],
 "metadata": {
  "kernelspec": {
   "display_name": "Python 3 (ipykernel)",
   "language": "python",
   "name": "python3"
  },
  "language_info": {
   "codemirror_mode": {
    "name": "ipython",
    "version": 3
   },
   "file_extension": ".py",
   "mimetype": "text/x-python",
   "name": "python",
   "nbconvert_exporter": "python",
   "pygments_lexer": "ipython3",
   "version": "3.11.5"
  }
 },
 "nbformat": 4,
 "nbformat_minor": 5
}
