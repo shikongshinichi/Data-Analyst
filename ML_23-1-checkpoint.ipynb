{
 "cells": [
  {
   "cell_type": "code",
   "execution_count": 8,
   "id": "f0db2d6e",
   "metadata": {},
   "outputs": [],
   "source": [
    "def gtcal(n):\n",
    "    gt = 1\n",
    "    for x in range(1, n+1):\n",
    "        gt *= x\n",
    "    return gt"
   ]
  },
  {
   "cell_type": "code",
   "execution_count": 9,
   "id": "264e85c0",
   "metadata": {},
   "outputs": [
    {
     "name": "stdout",
     "output_type": "stream",
     "text": [
      "6\n"
     ]
    }
   ],
   "source": [
    "print(gtcal(3))"
   ]
  },
  {
   "cell_type": "code",
   "execution_count": 15,
   "id": "362e4bdd",
   "metadata": {},
   "outputs": [],
   "source": [
    "def dq(n):\n",
    "    if n==0 | n==1:\n",
    "        return 1\n",
    "    else:\n",
    "        return n*dq(n-1)"
   ]
  },
  {
   "cell_type": "code",
   "execution_count": 16,
   "id": "1af5ba15",
   "metadata": {},
   "outputs": [
    {
     "name": "stdout",
     "output_type": "stream",
     "text": [
      "6\n"
     ]
    }
   ],
   "source": [
    "print(dq(3))"
   ]
  },
  {
   "cell_type": "code",
   "execution_count": 14,
   "id": "a4f3b772",
   "metadata": {},
   "outputs": [
    {
     "name": "stdout",
     "output_type": "stream",
     "text": [
      "3\n",
      "9\n"
     ]
    }
   ],
   "source": [
    "n = input()\n",
    "type(n)\n",
    "sum = 0\n",
    "for i in range(1, int(n)+1):\n",
    "    sum += gtcal(i)\n",
    "print(sum)"
   ]
  },
  {
   "cell_type": "code",
   "execution_count": 22,
   "id": "e0681ec4",
   "metadata": {},
   "outputs": [
    {
     "name": "stdout",
     "output_type": "stream",
     "text": [
      "1\n"
     ]
    }
   ],
   "source": [
    "n = 0\n",
    "def tgt(n):\n",
    "    if n==0:\n",
    "        return 1\n",
    "    else:\n",
    "        return dq(n)*tgt(n-1)\n",
    "print(tgt(n))"
   ]
  },
  {
   "cell_type": "code",
   "execution_count": null,
   "id": "37f286d3",
   "metadata": {},
   "outputs": [],
   "source": [
    "a = [1, 2 ,3, 4]"
   ]
  },
  {
   "cell_type": "code",
   "execution_count": 24,
   "id": "a05651e9",
   "metadata": {},
   "outputs": [
    {
     "name": "stdout",
     "output_type": "stream",
     "text": [
      "tb: 2.5 - phuong sai: 1.25 - do lech chuan: 1.118033988749895\n"
     ]
    }
   ],
   "source": [
    "import numpy as np\n",
    "# def tb(a):\n",
    "#     return np.mean(a)\n",
    "# def ps(a):\n",
    "#     return np.var(a)\n",
    "# def lc(a):\n",
    "#     return np.std(a)\n",
    "print(f\"tb: {np.mean(a)} - phuong sai: {np.var(a)} - do lech chuan: {np.std(a)}\")\n",
    "        "
   ]
  },
  {
   "cell_type": "code",
   "execution_count": null,
   "id": "448ab0fa",
   "metadata": {},
   "outputs": [],
   "source": [
    "arr = []\n",
    "n = 3\n",
    "for i in range(n+1):\n",
    "    x = input()\n",
    "    arr.append(x)\n",
    "print(arr)"
   ]
  },
  {
   "cell_type": "markdown",
   "id": "a7e2e28d",
   "metadata": {},
   "source": [
    "# File CSV"
   ]
  },
  {
   "cell_type": "code",
   "execution_count": null,
   "id": "73612608",
   "metadata": {},
   "outputs": [],
   "source": [
    "import csv"
   ]
  },
  {
   "cell_type": "code",
   "execution_count": null,
   "id": "fcd6e59f",
   "metadata": {},
   "outputs": [],
   "source": [
    "file_path = \"\"\n",
    "titles = []\n",
    "rows = []"
   ]
  },
  {
   "cell_type": "code",
   "execution_count": null,
   "id": "419dfe06",
   "metadata": {},
   "outputs": [],
   "source": [
    "# read\n",
    "with open(file_path, 'r') as file:\n",
    "    csv_reader = csv.reader(file)\n",
    "    titles = next(csv_reader)\n",
    "    for row in csv_reader:\n",
    "        rows.append(row)"
   ]
  },
  {
   "cell_type": "code",
   "execution_count": null,
   "id": "a5b62985",
   "metadata": {},
   "outputs": [],
   "source": [
    "# print\n",
    "print(f\"Danh sach bien: {titles}\")"
   ]
  },
  {
   "cell_type": "code",
   "execution_count": null,
   "id": "07d40722",
   "metadata": {},
   "outputs": [],
   "source": [
    "# gia tri cua cot (bien) cuoi cung\n",
    "for "
   ]
  },
  {
   "cell_type": "markdown",
   "id": "2b69e5e3",
   "metadata": {},
   "source": [
    "# Pandas for csv"
   ]
  },
  {
   "cell_type": "code",
   "execution_count": null,
   "id": "a9ff45a6",
   "metadata": {},
   "outputs": [],
   "source": [
    "import pandas as pd"
   ]
  },
  {
   "cell_type": "code",
   "execution_count": null,
   "id": "4585a6d0",
   "metadata": {},
   "outputs": [],
   "source": [
    "file_path = \"D:/Documents/3nd_year/Semester2/Machine Learning/Data/iris.csv\""
   ]
  }
 ],
 "metadata": {
  "kernelspec": {
   "display_name": "Python 3 (ipykernel)",
   "language": "python",
   "name": "python3"
  },
  "language_info": {
   "codemirror_mode": {
    "name": "ipython",
    "version": 3
   },
   "file_extension": ".py",
   "mimetype": "text/x-python",
   "name": "python",
   "nbconvert_exporter": "python",
   "pygments_lexer": "ipython3",
   "version": "3.11.5"
  }
 },
 "nbformat": 4,
 "nbformat_minor": 5
}
