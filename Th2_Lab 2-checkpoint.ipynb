{
 "cells": [
  {
   "cell_type": "code",
   "execution_count": 1,
   "id": "f96cf034",
   "metadata": {},
   "outputs": [
    {
     "name": "stdout",
     "output_type": "stream",
     "text": [
      "Enter your weight in pounds: 170\n",
      "Enter your height in inches: 69\n"
     ]
    }
   ],
   "source": [
    "name = input(\"Enter your name: \") \n",
    "\n",
    "weight = int(input('Enter your weight in pounds: '))\n",
    "\n",
    "height = int(input('Enter your height in inches: '))\n",
    "\n",
    "BMI = (weight * 730) / (height * height)\n",
    "\n",
    "print(BMI)\n",
    "\n",
    "if BMI > 0:\n",
    "    if BMI<18.5:\n",
    "        print(name + \", you're underweight.\")\n",
    "    elif BMI<=24.9:\n",
    "        print(name + \", you're normal weight.\")\n",
    "    elif BMI<=29.9:\n",
    "        print(name + \", you're overweight.\")\n",
    "    elif BMI<=34.9:\n",
    "        print(name + \", you're obese.\")\n",
    "    elif BMI<=39.9:\n",
    "        print(name + \", you're serverely obese.\")\n",
    "    else:\n",
    "        print(name + \", you are morbidly obese.\")\n",
    "else:\n",
    "    print('Input valid input.')"
   ]
  },
  {
   "cell_type": "code",
   "execution_count": null,
   "id": "74000dbb",
   "metadata": {},
   "outputs": [],
   "source": []
  }
 ],
 "metadata": {
  "kernelspec": {
   "display_name": "Python 3 (ipykernel)",
   "language": "python",
   "name": "python3"
  },
  "language_info": {
   "codemirror_mode": {
    "name": "ipython",
    "version": 3
   },
   "file_extension": ".py",
   "mimetype": "text/x-python",
   "name": "python",
   "nbconvert_exporter": "python",
   "pygments_lexer": "ipython3",
   "version": "3.11.5"
  }
 },
 "nbformat": 4,
 "nbformat_minor": 5
}
