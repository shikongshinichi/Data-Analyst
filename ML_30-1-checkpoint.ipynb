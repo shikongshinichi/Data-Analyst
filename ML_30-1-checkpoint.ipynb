{
 "cells": [
  {
   "cell_type": "markdown",
   "id": "4ea69613",
   "metadata": {},
   "source": [
    "# C1: Tạo hàm"
   ]
  },
  {
   "cell_type": "code",
   "execution_count": 1,
   "id": "39695cda",
   "metadata": {},
   "outputs": [],
   "source": [
    "def lt(n):\n",
    "    x = 1\n",
    "    if n==0 | n==1: return 1\n",
    "    else:\n",
    "        for i in range(2, n+1):\n",
    "            x *= i\n",
    "        return x"
   ]
  },
  {
   "cell_type": "code",
   "execution_count": 7,
   "id": "bd427509",
   "metadata": {},
   "outputs": [],
   "source": [
    "def sum(n):\n",
    "    s = 0\n",
    "    if n==0 | n==1: return 1\n",
    "    else:\n",
    "        for i in range(0, n+1):\n",
    "            s += lt(i)\n",
    "        return s"
   ]
  },
  {
   "cell_type": "code",
   "execution_count": 8,
   "id": "1b2c7fe9",
   "metadata": {},
   "outputs": [
    {
     "name": "stdout",
     "output_type": "stream",
     "text": [
      "Input a number: 3\n",
      "11\n"
     ]
    }
   ],
   "source": [
    "n = int(input('Input a number: '))\n",
    "print(sum(n))"
   ]
  },
  {
   "cell_type": "markdown",
   "id": "ec8d3e95",
   "metadata": {},
   "source": [
    "# C2: Ko tạo hàm"
   ]
  },
  {
   "cell_type": "code",
   "execution_count": 4,
   "id": "73074f7a",
   "metadata": {},
   "outputs": [],
   "source": [
    "import math"
   ]
  },
  {
   "cell_type": "code",
   "execution_count": 6,
   "id": "d074a736",
   "metadata": {},
   "outputs": [
    {
     "name": "stdout",
     "output_type": "stream",
     "text": [
      "Input a number: 3\n",
      "\n",
      "\n",
      "\n",
      "\n",
      "10\n"
     ]
    }
   ],
   "source": [
    "n = int(input('Input a number: '))\n",
    "if n==0 | n==1: print(1)\n",
    "else:\n",
    "    sum = 0\n",
    "    for i in range(0, n+1):\n",
    "        sum += math.factorial(i)\n",
    "        print()\n",
    "    print(sum)"
   ]
  },
  {
   "cell_type": "code",
   "execution_count": null,
   "id": "f213ee60",
   "metadata": {},
   "outputs": [],
   "source": []
  }
 ],
 "metadata": {
  "kernelspec": {
   "display_name": "Python 3 (ipykernel)",
   "language": "python",
   "name": "python3"
  },
  "language_info": {
   "codemirror_mode": {
    "name": "ipython",
    "version": 3
   },
   "file_extension": ".py",
   "mimetype": "text/x-python",
   "name": "python",
   "nbconvert_exporter": "python",
   "pygments_lexer": "ipython3",
   "version": "3.11.5"
  }
 },
 "nbformat": 4,
 "nbformat_minor": 5
}
